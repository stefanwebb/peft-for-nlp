{
 "cells": [
  {
   "cell_type": "code",
   "execution_count": 1,
   "metadata": {},
   "outputs": [],
   "source": [
    "import pandas as pd"
   ]
  },
  {
   "cell_type": "code",
   "execution_count": null,
   "metadata": {},
   "outputs": [],
   "source": [
    "full_path = \"/Users/stefanwebb/code/Python/clang8/output_data/clang8_source_target_en.spacy_tokenized.tsv\"\n",
    "# data = pd.read_csv(full_path, sep=\"\\t\", names=[\"source\", \"target\"])"
   ]
  },
  {
   "cell_type": "code",
   "execution_count": 3,
   "metadata": {},
   "outputs": [],
   "source": [
    "with open(full_path, 'r') as f:\n",
    "    rows = f.readlines()"
   ]
  },
  {
   "cell_type": "code",
   "execution_count": null,
   "metadata": {},
   "outputs": [],
   "source": [
    "corrections = [\n",
    "    [\" .\", \".\"],\n",
    "    [\" ,\", \",\"],\n",
    "    [\" !\", \"!\"],\n",
    "    [\" ?\", \"?\"],\n",
    "    [\"wo n't\", \"won't\"],\n",
    "    [\" '\", \"'\"],\n",
    "    [\" (\", \"(\"],\n",
    "    [\" )\", \")\"],\n",
    "    [\" :\", \":\"],\n",
    "\n",
    "    # [\" \\\"\", \"\\\"\"],\n",
    "    [\" %\", \"%\"],\n",
    "\n",
    "\n",
    "]\n",
    "\n",
    "def fix_string(s: str) -> str:\n"
   ]
  },
  {
   "cell_type": "code",
   "execution_count": 9,
   "metadata": {},
   "outputs": [],
   "source": [
    "split_rows = [x.strip().split('\\t') for x in rows]"
   ]
  },
  {
   "cell_type": "code",
   "execution_count": 10,
   "metadata": {},
   "outputs": [
    {
     "data": {
      "text/plain": [
       "2372119"
      ]
     },
     "execution_count": 10,
     "metadata": {},
     "output_type": "execute_result"
    }
   ],
   "source": [
    "len(split_rows)"
   ]
  },
  {
   "cell_type": "code",
   "execution_count": 13,
   "metadata": {},
   "outputs": [],
   "source": [
    "for idx, x in enumerate(split_rows):\n",
    "    if len(x) != 2:\n",
    "        print(idx, x)"
   ]
  },
  {
   "cell_type": "code",
   "execution_count": null,
   "metadata": {},
   "outputs": [],
   "source": []
  }
 ],
 "metadata": {
  "kernelspec": {
   "display_name": "huggingface",
   "language": "python",
   "name": "python3"
  },
  "language_info": {
   "codemirror_mode": {
    "name": "ipython",
    "version": 3
   },
   "file_extension": ".py",
   "mimetype": "text/x-python",
   "name": "python",
   "nbconvert_exporter": "python",
   "pygments_lexer": "ipython3",
   "version": "3.11.7"
  }
 },
 "nbformat": 4,
 "nbformat_minor": 2
}
