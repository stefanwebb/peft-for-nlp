{
 "cells": [
  {
   "cell_type": "markdown",
   "metadata": {},
   "source": [
    "## Pre-process the BEL Dataset for Training"
   ]
  },
  {
   "cell_type": "code",
   "execution_count": 63,
   "metadata": {},
   "outputs": [],
   "source": [
    "import pandas as pd"
   ]
  },
  {
   "cell_type": "code",
   "execution_count": 1,
   "metadata": {},
   "outputs": [],
   "source": [
    "with open(\"data/bel-corpus.csv\", 'r') as file:\n",
    "    sensical = file.readlines()\n",
    "\n",
    "with open(\"data/nonsense-bel-corpus.csv\", 'r') as file:\n",
    "    nonsensical = file.readlines()"
   ]
  },
  {
   "cell_type": "code",
   "execution_count": 2,
   "metadata": {},
   "outputs": [
    {
     "data": {
      "text/plain": [
       "['\\ufeffList 1\\n',\n",
       " '1.\\xa0\\xa0\\xa0\\xa0 the PARK OPENS in ELEVEN MONTHS\\n',\n",
       " '2.\\xa0\\xa0\\xa0\\xa0 the THIRSTY KID DRINKS JUICE\\n',\n",
       " '3.\\xa0\\xa0\\xa0\\xa0 these BROWN MUSHROOMS TASTE AMAZING\\n',\n",
       " '4.\\xa0\\xa0\\xa0\\xa0 the TRAIN is FAST and VERY DANGEROUS\\n',\n",
       " '5.\\xa0\\xa0\\xa0\\xa0 the ANNOYING STUDENT ASKS many QUESTIONS\\n',\n",
       " '6.\\xa0\\xa0\\xa0\\xa0 the PERFORMER WEARS COLORFUL DRESSES\\n',\n",
       " '7.\\xa0\\xa0\\xa0\\xa0 a LAZY WORKER RESTS OFTEN\\n',\n",
       " '8.\\xa0\\xa0\\xa0\\xa0 my DOCTOR WORKS in that BUSY HOSPITAL\\n',\n",
       " '9.\\xa0\\xa0\\xa0\\xa0 he LOST his WHITE HAT TODAY\\n']"
      ]
     },
     "execution_count": 2,
     "metadata": {},
     "output_type": "execute_result"
    }
   ],
   "source": [
    "sensical[0:10]"
   ]
  },
  {
   "cell_type": "code",
   "execution_count": 55,
   "metadata": {},
   "outputs": [],
   "source": [
    "def process_lines(lines):\n",
    "    ans = [l.strip() for l in lines if not l.startswith('\\ufeff')]\n",
    "    ans = [l for l in ans if not l.startswith('List') ]\n",
    "    ans = [l.split('\\xa0')[-1].strip() for l in ans]\n",
    "\n",
    "    def fix_case(s):\n",
    "        s = s.split(' ')\n",
    "        s = ' '.join([s[0].capitalize()] + [l.lower() for l in s[1:]])\n",
    "        return s\n",
    "\n",
    "    ans = [fix_case(l) + '.' for l in ans if len(fix_case(l)) > 0]\n",
    "    return ans"
   ]
  },
  {
   "cell_type": "code",
   "execution_count": 56,
   "metadata": {},
   "outputs": [],
   "source": [
    "sense_processed, nonsense_processed = process_lines(sensical), process_lines(nonsensical)"
   ]
  },
  {
   "cell_type": "code",
   "execution_count": 57,
   "metadata": {},
   "outputs": [
    {
     "data": {
      "text/plain": [
       "(500, 500)"
      ]
     },
     "execution_count": 57,
     "metadata": {},
     "output_type": "execute_result"
    }
   ],
   "source": [
    "len(sense_processed), len(nonsense_processed)"
   ]
  },
  {
   "cell_type": "code",
   "execution_count": 58,
   "metadata": {},
   "outputs": [],
   "source": [
    "for idx, s in enumerate(nonsense_processed):\n",
    "    if s == '.':\n",
    "        print(idx)"
   ]
  },
  {
   "cell_type": "code",
   "execution_count": 64,
   "metadata": {},
   "outputs": [
    {
     "data": {
      "text/html": [
       "<div>\n",
       "<style scoped>\n",
       "    .dataframe tbody tr th:only-of-type {\n",
       "        vertical-align: middle;\n",
       "    }\n",
       "\n",
       "    .dataframe tbody tr th {\n",
       "        vertical-align: top;\n",
       "    }\n",
       "\n",
       "    .dataframe thead th {\n",
       "        text-align: right;\n",
       "    }\n",
       "</style>\n",
       "<table border=\"1\" class=\"dataframe\">\n",
       "  <thead>\n",
       "    <tr style=\"text-align: right;\">\n",
       "      <th></th>\n",
       "      <th>input</th>\n",
       "      <th>output</th>\n",
       "    </tr>\n",
       "  </thead>\n",
       "  <tbody>\n",
       "    <tr>\n",
       "      <th>0</th>\n",
       "      <td>The park opens in eleven months.</td>\n",
       "      <td>yes</td>\n",
       "    </tr>\n",
       "    <tr>\n",
       "      <th>1</th>\n",
       "      <td>The thirsty kid drinks juice.</td>\n",
       "      <td>yes</td>\n",
       "    </tr>\n",
       "    <tr>\n",
       "      <th>2</th>\n",
       "      <td>These brown mushrooms taste amazing.</td>\n",
       "      <td>yes</td>\n",
       "    </tr>\n",
       "    <tr>\n",
       "      <th>3</th>\n",
       "      <td>The train is fast and very dangerous.</td>\n",
       "      <td>yes</td>\n",
       "    </tr>\n",
       "    <tr>\n",
       "      <th>4</th>\n",
       "      <td>The annoying student asks many questions.</td>\n",
       "      <td>yes</td>\n",
       "    </tr>\n",
       "    <tr>\n",
       "      <th>...</th>\n",
       "      <td>...</td>\n",
       "      <td>...</td>\n",
       "    </tr>\n",
       "    <tr>\n",
       "      <th>995</th>\n",
       "      <td>The boring knife upset their steak.</td>\n",
       "      <td>no</td>\n",
       "    </tr>\n",
       "    <tr>\n",
       "      <th>996</th>\n",
       "      <td>His mean daughter cleaned on families.</td>\n",
       "      <td>no</td>\n",
       "    </tr>\n",
       "    <tr>\n",
       "      <th>997</th>\n",
       "      <td>The tasty team will change easily.</td>\n",
       "      <td>no</td>\n",
       "    </tr>\n",
       "    <tr>\n",
       "      <th>998</th>\n",
       "      <td>A funny house runs with the movie.</td>\n",
       "      <td>no</td>\n",
       "    </tr>\n",
       "    <tr>\n",
       "      <th>999</th>\n",
       "      <td>The cold nanny scored the questions.</td>\n",
       "      <td>no</td>\n",
       "    </tr>\n",
       "  </tbody>\n",
       "</table>\n",
       "<p>1000 rows × 2 columns</p>\n",
       "</div>"
      ],
      "text/plain": [
       "                                         input output\n",
       "0             The park opens in eleven months.    yes\n",
       "1                The thirsty kid drinks juice.    yes\n",
       "2         These brown mushrooms taste amazing.    yes\n",
       "3        The train is fast and very dangerous.    yes\n",
       "4    The annoying student asks many questions.    yes\n",
       "..                                         ...    ...\n",
       "995        The boring knife upset their steak.     no\n",
       "996     His mean daughter cleaned on families.     no\n",
       "997         The tasty team will change easily.     no\n",
       "998         A funny house runs with the movie.     no\n",
       "999       The cold nanny scored the questions.     no\n",
       "\n",
       "[1000 rows x 2 columns]"
      ]
     },
     "execution_count": 64,
     "metadata": {},
     "output_type": "execute_result"
    }
   ],
   "source": [
    "d = {\n",
    "        'input': sense_processed + nonsense_processed,\n",
    "        'output': [\"yes\" for i in range(len(sense_processed))] + [\"no\" for i in range(len(sense_processed))]\n",
    "    }\n",
    "df = pd.DataFrame(data=d)\n",
    "df"
   ]
  },
  {
   "cell_type": "code",
   "execution_count": 65,
   "metadata": {},
   "outputs": [],
   "source": [
    "df.to_pickle(\"data/bel-sensicality.pkl\")"
   ]
  },
  {
   "cell_type": "code",
   "execution_count": null,
   "metadata": {},
   "outputs": [],
   "source": []
  }
 ],
 "metadata": {
  "kernelspec": {
   "display_name": "huggingface",
   "language": "python",
   "name": "python3"
  },
  "language_info": {
   "codemirror_mode": {
    "name": "ipython",
    "version": 3
   },
   "file_extension": ".py",
   "mimetype": "text/x-python",
   "name": "python",
   "nbconvert_exporter": "python",
   "pygments_lexer": "ipython3",
   "version": "3.11.7"
  }
 },
 "nbformat": 4,
 "nbformat_minor": 2
}
